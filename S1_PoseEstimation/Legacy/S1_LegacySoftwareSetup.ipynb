{
 "cells": [
  {
   "cell_type": "markdown",
   "id": "9036a25d",
   "metadata": {},
   "source": [
    "# Setup Raspberry Pi Camera Interface\n",
    "\n",
    "1. Start up your Raspberry Pi\n",
    "2. Go to the main menu and open the __Raspberry Pi Configuration__ tool.\n",
    "3. Select the __Interfaces__ tab and ensure that the __camera__ is __enabled__\n",
    "4. Reboot your Raspberry Pi\n",
    "\n",
    "# PoseNet Setup\n",
    "\n",
    "Now that we have verified that TensorFlow and Coral are working, we will now install the required packages for PoseNet. In a terminal window, run the following commands:\n",
    "\n",
    "- Install `python3-pycoral`:\n",
    "\n",
    "```bash\n",
    "sudo apt-get install python3-pycoral\n",
    "```\n",
    "\n",
    "- Install `tflite`:\n",
    "\n",
    "```bash\n",
    "python3 -m pip install tflite-runtime\n",
    "```\n",
    "\n",
    "- Install the Edge TPU runtime:\n",
    "\n",
    "```bash\n",
    "echo \"deb https://packages.cloud.google.com/apt coral-edgetpu-stable main\" | sudo tee /etc/apt/sources.list.d/coral-edgetpu.list\n",
    "\n",
    "curl https://packages.cloud.google.com/apt/doc/apt-key.gpg | sudo apt-key add -\n",
    "sudo apt-get update  \n",
    "sudo apt-get install libedgetpu1-std\n",
    "```    \n",
    "\n",
    "After installing those, you can now physically connect your __Coral__ to the Raspberry Pi using the USB-C cable supplied. Because the Coral supports USB 3.0, it should be attached to one of the Blue USB ports on the Raspberry Pi 4 to allow the fastest transfer speeds. If you already attached the Coral, then remove it and connect again.\n",
    "\n",
    "```bash     \n",
    "cd ~/google-coral\n",
    "```\n",
    "\n",
    "```bash\n",
    "git clone https://github.com/google-coral/project-posenet.git\n",
    "```\n",
    "    \n",
    "If you receive the message 'fatal: destination path 'project-posenet' already exists and is not an empty directory.' Posenet was already downloaded on your device. Move on to the next step:\n",
    "\n",
    "```bash\n",
    "cd /home/pi/google-coral/project-posenet    \n",
    "sh install_requirements.sh\n",
    "```   \n"
   ]
  }
 ],
 "metadata": {
  "kernelspec": {
   "display_name": "Python 3 (ipykernel)",
   "language": "python",
   "name": "python3"
  },
  "language_info": {
   "codemirror_mode": {
    "name": "ipython",
    "version": 3
   },
   "file_extension": ".py",
   "mimetype": "text/x-python",
   "name": "python",
   "nbconvert_exporter": "python",
   "pygments_lexer": "ipython3",
   "version": "3.9.13"
  }
 },
 "nbformat": 4,
 "nbformat_minor": 5
}
