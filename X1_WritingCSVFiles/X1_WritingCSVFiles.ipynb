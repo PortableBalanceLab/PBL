{
 "cells": [
  {
   "cell_type": "markdown",
   "id": "c4155d56",
   "metadata": {},
   "source": [
    "# `X1`: Extra Content 1: Writing CSV Files\n",
    "\n",
    "Comma Seperated Values (CSVs) is a term used to refer to a computer file containing tabular data that is presented in plain text. It is extremely common because it is human-readable, easy-to-understand, and easy for computers to read/write.\n",
    "\n",
    "All sensor practicals (`S1-S4`) in the PBL course involve writing CSV data. Anything you see in this extra note should be considered part of the practical exercise.\n",
    "\n",
    "> ℹ️ **Example**: `S2` contains a step that involves writing IMU data to a CSV file. Consequently, it recommends reading this material and, subsequently, will assume you are familiar with all of this content.\n",
    "\n",
    "\n",
    "## What is a CSV File?\n",
    "\n",
    "A CSV file is a text file that contains tabular data. Each line in the file is a row in the table, and commas seperate each column within a row. E.g. this table, rendered via Jupyter:\n",
    "\n",
    "| Name | Course | Year | Grade |\n",
    "| ---- | ------ | ---- | ----- |\n",
    "| Nikhil | KT2502 | 2022 | 9.0 |\n",
    "| Sanchit | KT2501 | 2021 | 7.1 |\n",
    "| Awkward, Name | KT2502 | 2022 | 5.0 |\n",
    "\n",
    "Can be represented as CSV data:\n",
    "\n",
    "```csv\n",
    "Name,Course,Year,Grade\n",
    "Nikhil,KT2502,2022,9.9\n",
    "Sanchit,KT2501,2021,7.1\n",
    "\"Awkward, Name\",KT2502,2022,5.0\n",
    "```\n",
    "\n",
    "The advantage of using a CSV is that it is more machine-readable than a fancy-looking Jupyter table. CSV files are so common that a wide variety of applications can read them. E.g. you could save the above in Notepad and import it as a table into Microsoft Excel.\n",
    "\n",
    "\n",
    "## The `csv` Module\n",
    "\n",
    "> ℹ️ **Note**: CSV may appear to be so simple that you'd be tempted to write your own CSV writer. For example, by `open`ing a file and `file.write(row)`ing each row yourself. However, this isn't recommended.\n",
    ">\n",
    "> Custom CSV writers may not handle edge-cases properly. E.g. in the above example, your code might write invalid data if your input data contains a comma. It might write invalid data if your input data contains a combination of commas and double quotes, etc. - just use the `csv` module for now.\n",
    "\n",
    "Because CSV files are so popular, python includes a `csv` module. The `csv.writer` class is used to write data to a CSV file. This class returns a writer object which is responsible for converting the user’s data into a delimited string. A `csvfile` object should be *opened* with `newline=''`, otherwise newline characters inside the quoted fields will not be interpreted correctly. Therefore, we need to slightly adjust the code we put in.\n",
    "\n",
    "The `csv.writer` class provides two methods for writing to CSV. They are `writerow` and `writerows`. `writerow` writes **a single row** at a time. `writerows` is used to write **multiple rows** at a time. Below is an example of how to write data into a csv file:"
   ]
  },
  {
   "cell_type": "code",
   "execution_count": null,
   "id": "d9a4d50e",
   "metadata": {},
   "outputs": [],
   "source": [
    "import csv\n",
    "\n",
    "# field names\n",
    "fields = ['Name', 'Course', 'Year', 'Grade']\n",
    "    \n",
    "# data rows of csv file\n",
    "rows = [\n",
    "    ['Nikhil', 'KT2502', '2022', '9.0'],\n",
    "    ['Sanchit', 'KT2501', '2021', '7.1'],\n",
    "    ['Aditya', 'KT2502', '2022', '9.3'],\n",
    "    ['Sagar', 'KT2502', '2022', '9.5'],\n",
    "    ['Prateek', 'KT2502', '2022', '7.8'],\n",
    "    ['Sahil', 'KT2502', '2022', '9.1']\n",
    "]\n",
    "\n",
    "# name of csv file\n",
    "filename = \"course_records.csv\"\n",
    "\n",
    "# open the output file\n",
    "csvfile = open(filename, 'w',newline='') \n",
    "\n",
    "# creating a csv writer object\n",
    "csvwriter = csv.writer(csvfile) \n",
    "\n",
    "# writing the fields\n",
    "csvwriter.writerow(fields) \n",
    "\n",
    "# writing the data rows\n",
    "csvwriter.writerows(rows)\n",
    "\n",
    "# close the output file\n",
    "csvfile.close()"
   ]
  },
  {
   "cell_type": "markdown",
   "id": "e548040b",
   "metadata": {},
   "source": [
    "> ❓ **Test Yourselves**\n",
    ">\n",
    "> - Do you understand what each line in the script is doing?\n",
    "> - How would you make it not output a header line?\n",
    "> - How would you make it print out an extra column of information?\n",
    "> - How would you make it **append** one line to the end of an existing file, rather than overwriting the existing file? ([hint](https://docs.python.org/3/library/functions.html#open))\n",
    "> - Could you rewrite the above without using `writerows` at all?"
   ]
  }
 ],
 "metadata": {
  "kernelspec": {
   "display_name": "Python 3 (ipykernel)",
   "language": "python",
   "name": "python3"
  },
  "language_info": {
   "codemirror_mode": {
    "name": "ipython",
    "version": 3
   },
   "file_extension": ".py",
   "mimetype": "text/x-python",
   "name": "python",
   "nbconvert_exporter": "python",
   "pygments_lexer": "ipython3",
   "version": "3.11.5"
  }
 },
 "nbformat": 4,
 "nbformat_minor": 5
}
