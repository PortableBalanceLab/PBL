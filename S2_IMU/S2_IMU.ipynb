{
 "cells": [
  {
   "cell_type": "markdown",
   "metadata": {},
   "source": [
    "# PBL Lab 2: portable IMU lab\n",
    "\n",
    "\n",
    "An inertial measurement unit (IMU) is a device consisting of an accelerometer, gyroscope, and often a magnetometer. By combining the information from the accelerometer – gravitational acceleration – with the data from the gyroscope – rotational velocity -, the orientation of the device can be determined. The magnetometer is used to track the magnetic-north, to determine the heading of the IMU. There are many commercially available IMUs on the market ( [ref: human-motioncapture website](https://human-motioncapture.com/measurement-systems/inertial-sensor-measurement-systems/)). The seperate sensors in an IMU can also be used to detect alterations in human motions. The accelerometer can for example be used to track body sway. \n",
    "\n",
    "In this lab we will work with the Sense HAT. This HAT is specially designed for the Raspberry Pi Zero. Apart from the accelerometer, gyroscope, and magnetometer, the board has a barometer, and temperature and humidity sensors. More information on the board and example code can be found [here](https://www.waveshare.com/wiki/Sense_HAT_(B)).\n",
    "\n",
    "Outline:\n",
    "* [1. Prepare the Raspberry Pi Zero ](#Ch1)\n",
    "    * [1.1 Connect the SenseHAT Module](#Ch11)\n",
    "    * [1.2 Install required libraries](#Ch12)\n",
    "* [2. Controlling IMU with Python code](#Ch2)\n",
    "* [3. Creating an Interface to visualize the signals.](#Ch3)\n",
    "* [4. IMU measurements](#Ch4)\n",
    "    * [4.1 What is an IMU? ](#Ch41)\n",
    "    * [4.2 Saving data to file](#Ch42)\n"
   ]
  },
  {
   "cell_type": "markdown",
   "metadata": {},
   "source": [
    "## 1. Prepare the Raspberry Pi Zero <a class=\"anchor\" id=\"Ch1\"></a>\n",
    "\n",
    "### 1.1 Connect the SenseHAT Module <a class=\"anchor\" id=\"Ch11\"></a>\n",
    "\n",
    "Ensure your Raspberry Pi is turned off.\n",
    "1. Gently push the header pins.\n",
    "\n",
    "<div> <img src=\"images/Sense_HAT.jpg\" width=\"500\"> </div>\n",
    "\n",
    "The IMU will run with a battery board. Therefore, we will also connect the UPS HAT (c)\n",
    "\n",
    "2. Connect the battery header to your Raspberry Pi\n",
    "    * Connect the battery to the header board, move the wires out of the way of the connector pins\n",
    "    * Make sure the switch on the end of the board is __OFF__ before connecting \n",
    "    * Add the spacers and screws to fix the two boards together\n",
    "\n",
    "<div> <img src=\"images/UPS_HAT.jpg\" width=\"500\"> </div>\n",
    "\n",
    "3. Start up your Raspberry Pi by switching the battery to __ON__\n",
    "4. You need to enable I2C.Go to the main menu and open the __Raspberry Pi Configuration__ tool\n",
    "\n",
    "4. Select the __Interfaces__ tab and ensure that the __I2C__ is __enabled__\n",
    "\n",
    "5. __Reboot__ your Raspberry Pi\n",
    "\n",
    "\n"
   ]
  },
  {
   "cell_type": "markdown",
   "metadata": {},
   "source": [
    "### 1.2 Install required libraries <a class=\"anchor\" id=\"Ch12\"></a>\n",
    "\n",
    "To get the board running, we need to install the right libaries. Therefore, in your terminal, put in the following commands one-by-one.\n",
    "\n",
    "    >>wget http://www.airspayce.com/mikem/bcm2835/bcm2835-1.60.tar.gz\n",
    "    \n",
    "    >>sudo tar zxvf bcm2835-1.60.tar.gz\n",
    "    \n",
    "    >>cd bcm2835-1.60\n",
    "    \n",
    "    >>sudo ./configure\n",
    "    \n",
    "    >>make\n",
    "    \n",
    "    >>sudo make check\n",
    "    \n",
    "    >>sudo make install\n",
    "\n",
    "Next, install the necessary Python libraries:\n",
    "\n",
    "    >>sudo apt-get install python-pip\n",
    "    \n",
    "    >>sudo pip install RPi.GPIO\n",
    "    \n",
    "    >>sudo pip install spidev\n",
    "    \n",
    "    >>sudo apt-get install python-imaging\n",
    "    \n",
    "    >>sudo apt-get install python-smbus"
   ]
  },
  {
   "cell_type": "markdown",
   "metadata": {},
   "source": [
    "## 2. Controlling the IMU with Python code <a class=\"anchor\" id=\"Ch2\"></a>\n",
    "\n",
    "The Python __SMbus__ library allows you to read the IMU sensors. There is an example code called __ICM20948.py__ that gets you started with reading the IMU data. The example code is in the _Lab2_ folder.\n",
    "\n",
    "1. Copy the __ICM20948.py__ to your Raspberry Pi\n",
    "\n",
    "This is an example file from the Sense HAT website. The file estimates the orientation and prints orientation, and the output from the accelerometer, gyroscpe, and magnetometer.\n",
    "\n",
    "2. Run the code and see that this output is indeed printed. \n",
    "\n",
    "__test yourselves: Where in the code is this output printed?__"
   ]
  },
  {
   "cell_type": "markdown",
   "metadata": {},
   "source": [
    "## 3. Creating an Interface to visualize the signals. <a class=\"anchor\" id=\"Ch3\"></a>\n",
    "\n",
    "Since it is hard to check whether the numbers that are printed make sense, we will create an interface that plots the outputted numbers. Let's create a simple interface with which we can see a running data plot while capturing. [This blog](https://learn.sparkfun.com/tutorials/graph-sensor-data-with-python-and-matplotlib/speeding-up-the-plot-animation) helps you with some inital code. The interface should have the following:\n",
    "* graph with running data\n",
    "\n",
    "Optional:\n",
    "* Try to visualize several lines in one figure in seperate (sub)plots\n",
    "* Add a start and stop button\n",
    "\n",
    "\n",
    "\n"
   ]
  },
  {
   "cell_type": "code",
   "execution_count": null,
   "metadata": {},
   "outputs": [],
   "source": [
    "# Create your own code here\n",
    "\n"
   ]
  },
  {
   "cell_type": "markdown",
   "metadata": {},
   "source": [
    "## 4. IMU measurements <a class=\"anchor\" id=\"Ch4\"></a>\n",
    "\n",
    "### 4.1 What is an IMU? <a class=\"anchor\" id=\"Ch41\"></a>\n",
    "\n",
    "An inertial measurement unit (IMU) is a device consisting of an accelerometer, gyroscope, and often a magnetometer. By combining the information from the accelerometer – gravitational acceleration – with the data from the gyroscope – rotational velocity -, the orientation of the device can be determined. The magnetometer is used to track the magnetic-north, to determine the heading of the IMU. There are many commercially available IMUs on the market ( [ref: human-motioncapture website](https://human-motioncapture.com/measurement-systems/inertial-sensor-measurement-systems/)).\n",
    "\n",
    "### 4.2 Saving data to file. <a class=\"anchor\" id=\"Ch42\"></a>\n",
    "In the previous sections you have extracted and plotted live IMU data using the libraries. However, we cannot analyse data if this isn't saved. You are now going to create a script such that the output values and time stamps are written to a csv file.\n",
    "\n",
    "1. Open a Python editor (e.g. Mu)\n",
    "2. Make sure that you save a new Python3 file: __logging_IMU_data.py__\n",
    "\n",
    "The first thing we need when we want to save experimental data is a timestamp for each keypoint. And, while we are on it, it would be great if the data are automatically saved with a filename that holds the date and time.\n",
    "\n",
    "3. Therefore, we need to import __datetime__ from the library __datetime__\n",
    "\n",
    "To explore what __datetime__ does, you can run the following example."
   ]
  },
  {
   "cell_type": "code",
   "execution_count": null,
   "metadata": {},
   "outputs": [],
   "source": [
    "from datetime import datetime\n",
    "\n",
    "x = datetime.now()\n",
    "print(x)"
   ]
  },
  {
   "cell_type": "markdown",
   "metadata": {},
   "source": [
    "The date contains year, month, day, hour, minute, second, and microsecond. The __datetime__ module has many methods to return information about the date object.\n",
    "\n",
    "| Directive |\tDescription |\n",
    "| --- | --- |\n",
    "| %a\t| Weekday, short version\tWed\t|\n",
    "| %A\t| Weekday, full version\tWednesday\t| \n",
    "| %w\t| Weekday as a number 0-6, 0 is Sunday\t3| \t\n",
    "| %d\t| Day of month 01-31\t31\t| \n",
    "| %b\t| Month name, short version\tDec | \t\n",
    "| %B\t| Month name, full version\tDecember | \t\n",
    "| %m\t| Month as a number 01-12\t12\t| \n",
    "| %y\t| Year, short version, without century\t18\t | \n",
    "| %Y\t| Year, full version\t2018\t| \n",
    "| %H\t| Hour 00-23\t17\t| \n",
    "| %I\t| Hour 00-12\t05\t| \n",
    "| %p\t| AM/PM\tPM\t| \n",
    "| %M\t| Minute 00-59\t41\t| \n",
    "| %S\t| Second 00-59\t08\t| \n",
    "| %f\t| Microsecond 000000-999999\t548513\t| \n",
    "| %z\t| UTC offset\t+0100\t| \n",
    "| %Z\t| Timezone\tCST\t| \n",
    "| %j\t| Day number of year 001-366\t365\t| \n",
    "| %U\t| Week number of year, Sunday as the first day of week, 00-53\t52\t| \n",
    "| %W\t| Week number of year, Monday as the first day of week, 00-53\t52\t| \n",
    "| %c\t| Local version of date and time\tMon Dec 31 17:41:00 2018\t| \n",
    "| %C\t| Century\t20\t| \n",
    "| %x\t| Local version of date\t12/31/18\t| \n",
    "| %X\t| Local version of time\t17:41:00\t| \n",
    "| %%\t| A % character\t%\t| \n",
    "| %G\t| ISO 8601 year\t2018\t| \n",
    "| %u\t| ISO 8601 weekday (1-7)\t1 | \t\n",
    "| %V\t| ISO 8601 weeknumber (01-53)\t01\t |\n",
    "_(source: https://www.w3schools.com/python/python_datetime.asp )_\n",
    "\n",
    "3. Create a code to extract a string similar to: _20220404-114200_ (year,month,day - hour,minute,second)"
   ]
  },
  {
   "cell_type": "code",
   "execution_count": null,
   "metadata": {},
   "outputs": [],
   "source": [
    "from datetime import datetime \n",
    "\n",
    "# Enter your own code here!\n"
   ]
  },
  {
   "cell_type": "markdown",
   "metadata": {},
   "source": [
    "4. Use the code you just wrote in the _logging_IMU_data.py_ script to create a filename _data/output_yourdatestring.csv_. Don't forget to also import the __datetime__ library at the start of your script.\n",
    "\n",
    "You will need the __datetime__ module again later on, but for now let's focus on creating a file in which we can log the data.\n",
    "\n",
    "5. In Lecture 3, you have learnt how to open a file with a specific filename. Use this to open a file in which we can _write_ with the filename you created in (4). Place this code also in your script.\n",
    "\n",
    "Instead of opening a text file like we did in Lecture 3 we now want to create a csv file. There is a special Python module we can use: __csv__\n",
    "\n",
    "6. import the csv module in _logging_IMU_camera.py_\n",
    "\n",
    "csv.writer class is used to insert data to the CSV file. This class returns a writer object which is responsible for converting the user’s data into a delimited string. A csvfile object should be opened with _newline=''_ otherwise newline characters inside the quoted fields will not be interpreted correctly. Therefore, we need to slightly adjust the code we put in (5)\n",
    "\n",
    "7. add _newline=''_ within the brackets of the line in which you open the csv file. \n",
    "\n",
    "csv.writer class provides two methods for writing to CSV. They are __writerow()__ and __writerows()__. writerow() writes a single row at a time. writerow(fields) is used to write multiple rows at a time. Below is an example of how to write data into a csv file"
   ]
  },
  {
   "cell_type": "code",
   "execution_count": null,
   "metadata": {},
   "outputs": [],
   "source": [
    "# CSV Example\n",
    "\n",
    "import csv \n",
    "    \n",
    "# field names \n",
    "fields = ['Name', 'Course', 'Year', 'Grade'] \n",
    "    \n",
    "# data rows of csv file \n",
    "rows = [ ['Nikhil', 'KT2502', '2022', '9.0'], \n",
    "         ['Sanchit', 'KT2501', '2021', '7.1'], \n",
    "         ['Aditya', 'KT2502', '2022', '9.3'], \n",
    "         ['Sagar', 'KT2502', '2022', '9.5'], \n",
    "         ['Prateek', 'KT2502', '2022', '7.8'], \n",
    "         ['Sahil', 'KT2502', '2022', '9.1']] \n",
    "\n",
    "\n",
    "    \n",
    "# name of csv file \n",
    "filename = \"course_records.csv\"\n",
    "    \n",
    "# writing to csv file \n",
    "csvfile = open(filename, 'w',newline='') \n",
    "    \n",
    "# creating a csv writer object \n",
    "csvwriter = csv.writer(csvfile) \n",
    "        \n",
    "# writing the fields \n",
    "csvwriter.writerow(fields) \n",
    "        \n",
    "# writing the data rows \n",
    "csvwriter.writerows(rows)\n",
    "    \n",
    "csvfile.close()"
   ]
  },
  {
   "cell_type": "markdown",
   "metadata": {},
   "source": [
    "This file is saved in the same folder as this python notebook.\n",
    "\n",
    "7. Use this example to create a csv writer object. Think about how you would like to export the keypoints, what will be your headers? Create this header (fields) and write it to the csv file.\n",
    "\n",
    "The rows will be filled with the IMU data while you are measuring. \n",
    "\n",
    "8. As an example, the following code creates a single row"
   ]
  },
  {
   "cell_type": "code",
   "execution_count": null,
   "metadata": {},
   "outputs": [],
   "source": [
    "row = []\n",
    "row.append(value1)\n",
    "row.append(value2)\n",
    "           \n",
    "# add date to row\n",
    "row.insert(0,now) # enters the date to as first entry of the row"
   ]
  },
  {
   "cell_type": "markdown",
   "metadata": {},
   "source": [
    "9. Write the data array that you constructed to the csv file.\n",
    "\n",
    "10. Finally, make sure that when the program stops, you close the csv file."
   ]
  },
  {
   "cell_type": "code",
   "execution_count": null,
   "metadata": {},
   "outputs": [],
   "source": [
    "# create your own code on the Raspberry\n"
   ]
  }
 ],
 "metadata": {
  "kernelspec": {
   "display_name": "Python 3 (ipykernel)",
   "language": "python",
   "name": "python3"
  },
  "language_info": {
   "codemirror_mode": {
    "name": "ipython",
    "version": 3
   },
   "file_extension": ".py",
   "mimetype": "text/x-python",
   "name": "python",
   "nbconvert_exporter": "python",
   "pygments_lexer": "ipython3",
   "version": "3.9.7"
  }
 },
 "nbformat": 4,
 "nbformat_minor": 2
}
