{
 "cells": [
  {
   "cell_type": "markdown",
   "metadata": {},
   "source": [
    "# `S2`: Sensor Lab 2: Inertial Measurement Unit (IMU)\n",
    "\n",
    "\n",
    "An inertial measurement unit (IMU) is a device consisting of an accelerometer, gyroscope, and (often) a magnetometer. By combining the information from the accelerometer--gravitational acceleration--with the data from the gyroscope--rotational velocity--the orientation of the device can be determined. The magnetometer is used to track the magnetic-north which determines the heading of the IMU.\n",
    "\n",
    "There are many commercially available IMUs on the market (e.g. [Human Motion Capture](https://human-motioncapture.com/measurement-systems/inertial-sensor-measurement-systems/)). When combined, the sensors in an IMU can also be used to detect alterations in human motions. For example, the accelerometer can be used to track body sway.\n",
    "\n",
    "In this lab we will work with the Sense HAT. This HAT is specially designed for the Raspberry Pi Zero. In addition to the accelerometer, gyroscope, and magnetometer, the Sense HAT also has a barometer, and temperature and humidity sensors. More information on the board and example code can be found [here](https://www.waveshare.com/wiki/Sense_HAT_(B)).\n",
    "\n",
    "\n",
    "# Outline:\n",
    "\n",
    "* [1. Prepare the Raspberry Pi Zero ](#Ch1)\n",
    "    * [1.1 Connect the SenseHAT Module](#Ch11)\n",
    "    * [1.2 Install required libraries](#Ch12)\n",
    "* [2. Controlling IMU with Python code](#Ch2)\n",
    "* [3. Creating an Interface to visualize the signals.](#Ch3)\n",
    "* [4. IMU measurements](#Ch4)\n",
    "    * [4.1 What is an IMU? ](#Ch41)\n",
    "    * [4.2 Saving data to file](#Ch42)\n"
   ]
  },
  {
   "cell_type": "markdown",
   "metadata": {},
   "source": [
    "## 1. Prepare the Raspberry Pi Zero <a class=\"anchor\" id=\"Ch1\"></a>\n",
    "\n",
    "\n",
    "### 1.1 Connect the SenseHAT Module <a class=\"anchor\" id=\"Ch11\"></a>\n",
    "\n",
    "Ensure your Raspberry Pi is turned off.\n",
    "\n",
    "1. Gently push the header pins.\n",
    "\n",
    "<div> <img src=\"images/Sense_HAT.jpg\" width=\"500\"> </div>\n",
    "\n",
    "The IMU will run with a battery board. Therefore, we will also connect the UPS HAT\n",
    "\n",
    "2. Connect the battery header to your Raspberry Pi\n",
    "    * Connect the battery to the header board, move the wires out of the way of the connector pins\n",
    "    * Make sure the switch on the end of the board is __OFF__ before connecting \n",
    "    * Add the spacers and screws to fix the two boards together\n",
    "\n",
    "<div> <img src=\"images/UPS_HAT.jpg\" width=\"500\"> </div>\n",
    "\n",
    "3. Start up your Raspberry Pi by switching the battery to __ON__\n",
    "4. You need to enable I2C.Go to the main menu and open the __Raspberry Pi Configuration__ tool\n",
    "\n",
    "4. Select the __Interfaces__ tab and ensure that the __I2C__ is __enabled__\n",
    "\n",
    "5. __Reboot__ your Raspberry Pi\n",
    "\n",
    "\n"
   ]
  },
  {
   "cell_type": "markdown",
   "metadata": {},
   "source": [
    "### 1.2 Install Required Libraries <a class=\"anchor\" id=\"Ch12\"></a>\n",
    "\n",
    "To get the board running, we need to install the right libaries. Therefore, in your terminal, put in the following commands one-by-one.\n",
    "\n",
    "```bash\n",
    "wget http://www.airspayce.com/mikem/bcm2835/bcm2835-1.60.tar.gz  \n",
    "sudo tar zxvf bcm2835-1.60.tar.gz\n",
    "cd bcm2835-1.60\n",
    "sudo ./configure\n",
    "make\n",
    "sudo make check\n",
    "sudo make install\n",
    "```\n",
    "\n",
    "Next, install the necessary Python libraries:\n",
    "\n",
    "```bash\n",
    "sudo apt-get install python-pip python-imaging python-smbus\n",
    "sudo pip install RPi.GPIO spidev\n",
    "```"
   ]
  },
  {
   "cell_type": "markdown",
   "metadata": {},
   "source": [
    "## 2. Control the IMU with Python code <a class=\"anchor\" id=\"Ch2\"></a>\n",
    "\n",
    "The Python __SMbus__ (`python-smbus`) library allows you to read the IMU sensors. We provide an example code called `ICM20948.py` that gets you started with that. The example code is in this lab notebook's folder.\n",
    "\n",
    "1. Copy `ICM20948.py` to your Raspberry Pi. VNC Connect has menu for doing this (usually shows in the little menu bar at the top of the VNC client).\n",
    "\n",
    "`ICM20948.py` is an example file from the Sense HAT website. The file estimates the orientation and prints orientation, and the output from the accelerometer, gyroscpe, and magnetometer.\n",
    "\n",
    "2. Use `python3`, or Mu, to run the script and verify that output is indeed printed. Use `Ctrl+C` to cancel the script\n",
    "\n",
    "> ❓ **Test Yourselves**:\n",
    ">\n",
    "> - Where in `ICM20948.py` is output printed?\n",
    "> - Do you think you could modify it to make it print something else?\n",
    "> \n",
    "> (you will need to use these values in late steps of this lab for plotting and CSV writing)"
   ]
  },
  {
   "cell_type": "markdown",
   "metadata": {},
   "source": [
    "## 3. Create an Interface to Visualize the IMU's data <a class=\"anchor\" id=\"Ch3\"></a>\n",
    "\n",
    "Because it is hard to check whether the numbers that are printed by `ICM20948.py` make sense, we will create a GUI that visualizes (plots) the IMU's data in realtime.\n",
    "\n",
    "> 🏆 **Challenge**: Create a simple interface with which we can see a running data plot while capturing. [This blog](https://learn.sparkfun.com/tutorials/graph-sensor-data-with-python-and-matplotlib/speeding-up-the-plot-animation) helps you with some inital code. The interface you create should contain a plot that shows the IMU's running data.\n",
    ">\n",
    "> ⭐⭐ **Optional Challenge #1**: Visualize several data lines in one figure using seperate subplots (via `add_subplot`).\n",
    ">\n",
    "> ⭐⭐⭐ **Optional Challenge #2**: Add a start and stop button to the plot.\n",
    "\n",
    "#### Useful Resources\n",
    "\n",
    "- [Sparkfun Guide to Plotting Sensor Data](https://learn.sparkfun.com/tutorials/graph-sensor-data-with-python-and-matplotlib/speeding-up-the-plot-animation)\n",
    "- [Matplotlib API: `FuncAnimation`](https://matplotlib.org/stable/api/_as_gen/matplotlib.animation.FuncAnimation.html#matplotlib.animation.FuncAnimation)\n",
    "- [Matplotlib API: `add_subplot`](https://matplotlib.org/stable/api/figure_api.html#matplotlib.figure.Figure.add_subplot) (⭐⭐)\n",
    "- [Matplotlib API: `Button`](https://matplotlib.org/stable/gallery/widgets/buttons.html) (⭐⭐⭐)"
   ]
  },
  {
   "cell_type": "code",
   "execution_count": null,
   "metadata": {},
   "outputs": [],
   "source": [
    "# Create your own code here\n"
   ]
  },
  {
   "cell_type": "markdown",
   "metadata": {},
   "source": [
    "## 4. IMU measurements <a class=\"anchor\" id=\"Ch4\"></a>\n",
    "\n",
    "\n",
    "### 4.1 What is an IMU? <a class=\"anchor\" id=\"Ch41\"></a>\n",
    "\n",
    "An inertial measurement unit (IMU) is a device consisting of three components:\n",
    "\n",
    "- **Accelerometer**: Measures acceleration (incl. gravity)\n",
    "- **Gyroscope**: Measures rotation velocity\n",
    "- **Magnetometer**: Measures magnetic north (the IMU's heading w.r.t. earth)\n",
    "\n",
    "By combining information from these, the orientation of the device can be determined. There are many commercially available IMUs on the market (e.g. [these](https://human-motioncapture.com/measurement-systems/inertial-sensor-measurement-systems/)).\n",
    "\n",
    "\n",
    "### 4.2 Saving data to file. <a class=\"anchor\" id=\"Ch42\"></a>\n",
    "\n",
    "In the previous section, you extracted and plotted live IMU data using `matplotlib`. However, we cannot analyse data if this isn't saved somewhere.\n",
    "\n",
    "To do this, you are going to need to know how to generate unique timestamped filenames (extra content: `X2`) and how to write to CSV files (extra content: `X1`).\n",
    "\n",
    "> 🏆 **Challenge**: Go through `X1` and `X2` \"eXtra Content\" materials. After going through those, you should know how to generate timestamped filenames, and how to write CSV data to a file. Those two techniques can be combined to write CSV data to timestamped files.\n",
    "\n",
    "> 🏆 **Challenge**: Modify your visualizer code to also generate a timestamped CSV file containing the raw data.\n",
    ">\n",
    "> - Open a Python editor on the Pi (e.g. Mu) and make sure that you save your data acquisition code (above) to a new python3 file called `logging_IMU_data.py`.\n",
    "> - Modify the code to generate a timestamped CSV filename (e.g. `data/output_$timestamp.csv`). Use the CSV writing routines to **append** a row of IMU data each time a new datapoint is plotted.\n",
    "> - Think about how you would like to export the key datapoints. What will be your headers? Headers should be written to each CSV file so that other software/reserachers can figure out what the data represents.\n",
    "> - Make sure all IMU datapoints are written to the CSV file\n",
    "> - Make sure that when the program stops, you close the CSV file\n",
    ">\n",
    "> (hint: in lecture 3, you learnt how to open a file for writing with a specific filename)\n"
   ]
  }
 ],
 "metadata": {
  "kernelspec": {
   "display_name": "Python 3 (ipykernel)",
   "language": "python",
   "name": "python3"
  },
  "language_info": {
   "codemirror_mode": {
    "name": "ipython",
    "version": 3
   },
   "file_extension": ".py",
   "mimetype": "text/x-python",
   "name": "python",
   "nbconvert_exporter": "python",
   "pygments_lexer": "ipython3",
   "version": "3.9.13"
  }
 },
 "nbformat": 4,
 "nbformat_minor": 4
}
