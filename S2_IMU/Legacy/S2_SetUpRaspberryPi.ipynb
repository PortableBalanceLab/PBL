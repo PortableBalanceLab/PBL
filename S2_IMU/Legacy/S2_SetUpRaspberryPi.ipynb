{
 "cells": [
  {
   "cell_type": "markdown",
   "id": "873c2f24",
   "metadata": {},
   "source": [
    "### Enable i2c\n",
    "\n",
    "3. Start up your Raspberry Pi by switching the battery to __ON__\n",
    "4. You need to enable I2C. Go to the main menu and open the __Raspberry Pi Configuration__ tool\n",
    "4. Select the __Interfaces__ tab and ensure that the __I2C__ is __enabled__\n",
    "5. __Reboot__ your Raspberry Pi\n",
    "\n",
    "### 1.2 Install Required Libraries <a class=\"anchor\" id=\"Ch12\"></a>\n",
    "\n",
    "To get the board running, we need to install the right libaries. Therefore, in your terminal, put in the following commands one-by-one.\n",
    "\n",
    "```bash\n",
    "wget http://www.airspayce.com/mikem/bcm2835/bcm2835-1.60.tar.gz  \n",
    "sudo tar zxvf bcm2835-1.60.tar.gz\n",
    "cd bcm2835-1.60\n",
    "sudo ./configure\n",
    "make\n",
    "sudo make check\n",
    "sudo make install\n",
    "```\n",
    "\n",
    "Next, install the necessary Python libraries:\n",
    "\n",
    "```bash\n",
    "sudo apt-get install python-pip python-imaging python-smbus\n",
    "sudo pip install RPi.GPIO spidev\n",
    "```"
   ]
  }
 ],
 "metadata": {
  "kernelspec": {
   "display_name": "Python 3 (ipykernel)",
   "language": "python",
   "name": "python3"
  },
  "language_info": {
   "codemirror_mode": {
    "name": "ipython",
    "version": 3
   },
   "file_extension": ".py",
   "mimetype": "text/x-python",
   "name": "python",
   "nbconvert_exporter": "python",
   "pygments_lexer": "ipython3",
   "version": "3.9.13"
  }
 },
 "nbformat": 4,
 "nbformat_minor": 5
}
