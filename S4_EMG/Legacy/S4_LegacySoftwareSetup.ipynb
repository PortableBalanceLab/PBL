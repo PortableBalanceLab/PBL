{
 "cells": [
  {
   "cell_type": "markdown",
   "id": "820b28f6-bfef-4ae4-a956-d0f81de44375",
   "metadata": {},
   "source": [
    "# Enable i2c\n",
    "\n",
    "3. Go to the main menu and open the __Raspberry Pi Configuration__ tool\n",
    "\n",
    "4. Select the __Interfaces__ tab and ensure that the __I2C__ is __enabled__\n",
    "\n",
    "5. __Reboot__ your Raspberry Pi\n",
    "\n",
    "\n",
    "# Install required libraries <a class=\"anchor\" id=\"Ch12\"></a>\n",
    "\n",
    "1. Python Installation of ADS1x15 Library\n",
    "\n",
    "We will use a board designed by Adafruit, it requires specific libraries to connect to your Raspbery Pi. First, you will need to install the Adafruit_Blinka library, it provides the CircuitPython support in Python. Open a terminal on your Raspberry Pi. From your command line run:\n",
    "\n",
    "```bash\n",
    "sudo pip3 install Adafruit-Blinka\n",
    "```\n",
    "\n",
    "Second, we also need the more specific library that comes with the board (ADS1115) that we will use. From your command line run the following command:\n",
    "\n",
    "```bash\n",
    "sudo pip3 install adafruit-circuitpython-ads1x15\n",
    "```"
   ]
  }
 ],
 "metadata": {
  "kernelspec": {
   "display_name": "Python 3 (ipykernel)",
   "language": "python",
   "name": "python3"
  },
  "language_info": {
   "codemirror_mode": {
    "name": "ipython",
    "version": 3
   },
   "file_extension": ".py",
   "mimetype": "text/x-python",
   "name": "python",
   "nbconvert_exporter": "python",
   "pygments_lexer": "ipython3",
   "version": "3.9.13"
  }
 },
 "nbformat": 4,
 "nbformat_minor": 5
}
