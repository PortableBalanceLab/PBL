{
 "cells": [
  {
   "cell_type": "markdown",
   "id": "48d0c211",
   "metadata": {},
   "source": [
    "# Install `hx711-multi`\n",
    "\n",
    "For this lab, we will use the `hx711-multi` library to communicate with the load cells. The PBL project hosts a fork of the library [here](https://github.com/PortableBalanceLab/hx711-multi), you can go to that link if you want more information about the library.\n",
    "\n",
    "To get a copy of `hx711-multi`, run this in a terminal on your Raspberry Pi:\n",
    "\n",
    "```bash\n",
    "git clone https://github.com/PortableBalanceLab/hx711-multi\n",
    "```\n",
    "\n",
    "Which will create a `hx711-multi/` directory in your current working directory."
   ]
  }
 ],
 "metadata": {
  "kernelspec": {
   "display_name": "Python 3 (ipykernel)",
   "language": "python",
   "name": "python3"
  },
  "language_info": {
   "codemirror_mode": {
    "name": "ipython",
    "version": 3
   },
   "file_extension": ".py",
   "mimetype": "text/x-python",
   "name": "python",
   "nbconvert_exporter": "python",
   "pygments_lexer": "ipython3",
   "version": "3.9.13"
  }
 },
 "nbformat": 4,
 "nbformat_minor": 5
}
